{
 "cells": [
  {
   "cell_type": "code",
   "execution_count": null,
   "id": "b02e3b42",
   "metadata": {},
   "outputs": [],
   "source": [
    "#Import Dependencies\n",
    "import matplotlib.pyplot as plt\n",
    "import pandas as pd\n",
    "import numpy as np\n",
    "import requests\n",
    "import time\n",
    "import scipy.stats as st\n",
    "from datetime import date\n",
    "from datetime import datetime\n",
    "from scipy.stats import linregress\n",
    "import json\n",
    "from citipy import citipy\n",
    "\n",
    "# Import API key\n",
    "from api_keys import weather_api_key"
   ]
  }
 ],
 "metadata": {
  "kernelspec": {
   "display_name": "Python 3 (ipykernel)",
   "language": "python",
   "name": "python3"
  },
  "language_info": {
   "codemirror_mode": {
    "name": "ipython",
    "version": 3
   },
   "file_extension": ".py",
   "mimetype": "text/x-python",
   "name": "python",
   "nbconvert_exporter": "python",
   "pygments_lexer": "ipython3",
   "version": "3.8.13"
  }
 },
 "nbformat": 4,
 "nbformat_minor": 5
}
